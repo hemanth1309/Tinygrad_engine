{
 "cells": [
  {
   "cell_type": "code",
   "execution_count": 24,
   "id": "cc898334-113d-405f-84cd-d87e6eeb840d",
   "metadata": {},
   "outputs": [],
   "source": [
    "import math\n",
    "import numpy as np\n",
    "import matplotlib.pyplot as plt\n",
    "%matplotlib inline"
   ]
  },
  {
   "cell_type": "code",
   "execution_count": 25,
   "id": "7301195b-3ea3-497d-a5e1-08b19655b241",
   "metadata": {},
   "outputs": [],
   "source": [
    "def func(i):\n",
    "    return 4*i**3 + 3*i**2 + 2*i + 6"
   ]
  },
  {
   "cell_type": "code",
   "execution_count": 26,
   "id": "cfb8ba07-ed95-4ad0-b65f-46c42995b3b7",
   "metadata": {},
   "outputs": [
    {
     "data": {
      "text/plain": [
       "147"
      ]
     },
     "execution_count": 26,
     "metadata": {},
     "output_type": "execute_result"
    }
   ],
   "source": [
    "func(3)"
   ]
  },
  {
   "cell_type": "code",
   "execution_count": 27,
   "id": "843fa129-b640-4e85-bcc1-c1675ddcbf21",
   "metadata": {},
   "outputs": [
    {
     "data": {
      "text/plain": [
       "[<matplotlib.lines.Line2D at 0x280944ba850>]"
      ]
     },
     "execution_count": 27,
     "metadata": {},
     "output_type": "execute_result"
    },
    {
     "data": {
      "image/png": "[encoded data removed]",
      "text/plain": [
       "<Figure size 640x480 with 1 Axes>"
      ]
     },
     "metadata": {},
     "output_type": "display_data"
    }
   ],
   "source": [
    "x_s = np.arange(-10, 10, 0.5)\n",
    "y_s = func(x_s)\n",
    "plt.plot(x_s, y_s)"
   ]
  },
  {
   "cell_type": "code",
   "execution_count": 28,
   "id": "733e525f-b979-49ed-8014-787a183d9098",
   "metadata": {},
   "outputs": [
    {
     "data": {
      "text/plain": [
       "634.3725544866174"
      ]
     },
     "execution_count": 28,
     "metadata": {},
     "output_type": "execute_result"
    }
   ],
   "source": [
    "x = 7\n",
    "h = 0.0000000000001\n",
    "(func(x + h) - func(x)) / h"
   ]
  },
  {
   "cell_type": "code",
   "execution_count": 29,
   "id": "571d3e72-ad63-4877-afe2-af34096f6ccb",
   "metadata": {},
   "outputs": [
    {
     "name": "stdout",
     "output_type": "stream",
     "text": [
      "0.6666666666666666\n"
     ]
    }
   ],
   "source": [
    "a = 1\n",
    "b = 2\n",
    "c = 3\n",
    "d = a*b / c\n",
    "print(d)"
   ]
  },
  {
   "cell_type": "code",
   "execution_count": 30,
   "id": "15cd2d26-1ff1-40bf-bfa2-4f83bc903dde",
   "metadata": {},
   "outputs": [
    {
     "name": "stdout",
     "output_type": "stream",
     "text": [
      "0.24999999999986144\n"
     ]
    }
   ],
   "source": [
    "h = 0.001\n",
    "a = 10\n",
    "b = 5\n",
    "c = 20\n",
    "d1 = a*b / c\n",
    "a += h\n",
    "d2 = a*b / c\n",
    "print((d2 - d1)/ h)"
   ]
  },
  {
   "cell_type": "code",
   "execution_count": 32,
   "id": "cdf3d745-2008-4395-97a7-12a200f0bae5",
   "metadata": {},
   "outputs": [],
   "source": [
    "import math\n",
    "\n",
    "class Value:\n",
    "    def __init__(self, data, _children=(), _op=\"\", label=''):\n",
    "        self.data = data\n",
    "        self.prev = set(_children)\n",
    "        self.op = _op\n",
    "        self.label = label\n",
    "        self.grad = 0\n",
    "        self._backward = lambda: None  # function to compute gradient\n",
    "\n",
    "    def __repr__(self):\n",
    "        return f\"Value(data={self.data})\"\n",
    "\n",
    "    # Negation\n",
    "    def __neg__(self):\n",
    "        return self * -1\n",
    "\n",
    "    # Addition\n",
    "    def __add__(self, other):\n",
    "        other = other if isinstance(other, Value) else Value(other)\n",
    "        out = Value(self.data + other.data, (self, other), \"+\")\n",
    "        def _backward():\n",
    "            self.grad += 1 * out.grad\n",
    "            other.grad += 1 * out.grad\n",
    "        out._backward = _backward\n",
    "        return out\n",
    "\n",
    "    # Multiplication\n",
    "    def __mul__(self, other):\n",
    "        other = other if isinstance(other, Value) else Value(other)\n",
    "        out = Value(self.data * other.data, (self, other), \"*\")\n",
    "        def _backward():\n",
    "            self.grad += other.data * out.grad\n",
    "            other.grad += self.data * out.grad\n",
    "        out._backward = _backward\n",
    "        return out\n",
    "\n",
    "    # Reverse multiplication\n",
    "    def __rmul__(self, other):\n",
    "        return self * other\n",
    "\n",
    "    # Subtraction\n",
    "    def __sub__(self, other):\n",
    "        return self + (-other)\n",
    "\n",
    "    def __pow__(self, other):\n",
    "        return self.pow(other)\n",
    "\n",
    "    # Division\n",
    "    def __truediv__(self, other):\n",
    "        other = other if isinstance(other, Value) else Value(other)\n",
    "        return self * (other ** -1)\n",
    "\n",
    "    # Power\n",
    "    def pow(self, other):\n",
    "        assert isinstance(other, (float, int)), \"only supporting int/float powers\"\n",
    "        out = Value(self.data ** other, (self,), f\"pow{other}\")\n",
    "        def _backward():\n",
    "            self.grad += other * (self.data ** (other - 1)) * out.grad\n",
    "        out._backward = _backward\n",
    "        return out\n",
    "\n",
    "    # Exponential\n",
    "    def exp(self):\n",
    "        x = self.data\n",
    "        out = Value(math.exp(x), (self,), 'exp')\n",
    "        def _backward():\n",
    "            self.grad += out.data * out.grad\n",
    "        out._backward = _backward\n",
    "        return out\n",
    "\n",
    "    # Tanh\n",
    "    def tanh(self):\n",
    "        n = self.data\n",
    "        t = (math.exp(2*n) - 1) / (math.exp(2*n) + 1)\n",
    "        out = Value(t, (self,), \"tanh\")\n",
    "        def _backward():\n",
    "            self.grad += (1 - t**2) * out.grad\n",
    "        out._backward = _backward\n",
    "        return out\n",
    "\n",
    "    # Backpropagation\n",
    "    def backward(self):\n",
    "        topo = []\n",
    "        visited = set()\n",
    "\n",
    "        def buildTopo(node):\n",
    "            if node not in visited:\n",
    "                visited.add(node)\n",
    "                for child in node.prev:\n",
    "                    buildTopo(child)\n",
    "                topo.append(node)\n",
    "\n",
    "        buildTopo(self)\n",
    "\n",
    "        self.grad = 1\n",
    "        for node in reversed(topo):\n",
    "            node._backward()\n"
   ]
  },
  {
   "cell_type": "code",
   "execution_count": 33,
   "id": "f44aa379-11ce-41ed-be58-5ff849490bfb",
   "metadata": {},
   "outputs": [
    {
     "data": {
      "text/plain": [
       "Value(data=0.5)"
      ]
     },
     "execution_count": 33,
     "metadata": {},
     "output_type": "execute_result"
    }
   ],
   "source": [
    "a = Value(2)\n",
    "b = 4\n",
    "a / b"
   ]
  },
  {
   "cell_type": "code",
   "execution_count": 34,
   "id": "d3de239e-b548-4442-bd32-d7d3cc621823",
   "metadata": {},
   "outputs": [
    {
     "data": {
      "text/plain": [
       "Value(data=3)"
      ]
     },
     "execution_count": 34,
     "metadata": {},
     "output_type": "execute_result"
    }
   ],
   "source": [
    "a = Value(3, label = 'a')\n",
    "b = Value(4.0, label = 'b')\n",
    "c = Value(4, label = 'c')\n",
    "f = Value(6, label = 'f')\n",
    "#a.__add__(b)\n",
    "#a.__mul__(b)\n",
    "p = a*b\n",
    "p.label = 'p'\n",
    "d = p + c\n",
    "d.label = 'd'\n",
    "e = f * d\n",
    "e.label = e\n",
    "#a + b\n",
    "a"
   ]
  },
  {
   "cell_type": "code",
   "execution_count": 35,
   "id": "f6ce45af-712e-4232-9ebf-1979182e78c5",
   "metadata": {},
   "outputs": [
    {
     "data": {
      "text/plain": [
       "{Value(data=12.0), Value(data=4)}"
      ]
     },
     "execution_count": 35,
     "metadata": {},
     "output_type": "execute_result"
    }
   ],
   "source": [
    "d.prev"
   ]
  },
  {
   "cell_type": "code",
   "execution_count": 36,
   "id": "f2e2b612-696f-4872-a8a4-a28263e10c9c",
   "metadata": {},
   "outputs": [
    {
     "data": {
      "text/plain": [
       "'+'"
      ]
     },
     "execution_count": 36,
     "metadata": {},
     "output_type": "execute_result"
    }
   ],
   "source": [
    "d.op"
   ]
  },
  {
   "cell_type": "code",
   "execution_count": 41,
   "id": "0ff774dc-76a4-4bb4-91ca-709cfe09224a",
   "metadata": {},
   "outputs": [],
   "source": [
    "from graphviz import Digraph\n",
    "\n",
    "def trace(root):\n",
    "    # builds a set of all nodes and edges in a graph\n",
    "    nodes, edges = set(), set()\n",
    "\n",
    "    def build(v):\n",
    "        if v not in nodes:\n",
    "            nodes.add(v)\n",
    "            # changed _prev → prev to match your Value class\n",
    "            for child in v.prev:  \n",
    "                edges.add((child, v))\n",
    "                build(child)\n",
    "\n",
    "    build(root)\n",
    "    return nodes, edges\n",
    "\n",
    "def draw_dot(root):\n",
    "    dot = Digraph(format='svg', graph_attr={'rankdir': 'LR'})  # LR = left to right\n",
    "\n",
    "    nodes, edges = trace(root)\n",
    "    for n in nodes:\n",
    "        uid = str(id(n))\n",
    "        # for any value in the graph, create a rectangular ('record') node for it\n",
    "        dot.node(name=uid, label=\"{ data %.4f }\" % (n.data,), shape='record')\n",
    "\n",
    "        if n.op:  # changed _op → op (your class uses self.op)\n",
    "            # if this value is a result of some operation, create an op node for it\n",
    "            dot.node(name=uid + n.op, label=n.op)\n",
    "            # and connect this op node to it\n",
    "            dot.edge(uid + n.op, uid)\n",
    "\n",
    "    for n1, n2 in edges:\n",
    "        # connect n1 to the op node of n2\n",
    "        dot.edge(str(id(n1)), str(id(n2)) + n2.op)\n",
    "\n",
    "    return dot"
   ]
  },
  {
   "cell_type": "code",
   "execution_count": 42,
   "id": "a919aa26-bcca-46b8-a61b-db65d924064c",
   "metadata": {},
   "outputs": [],
   "source": [
    "e.grad = 1\n",
    "d.grad = 6\n",
    "f.grad = 16\n",
    "c.grad = 6\n",
    "p.grad = 6\n",
    "a.grad = 24\n",
    "b.grad = 18"
   ]
  },
  {
   "cell_type": "code",
   "execution_count": 43,
   "id": "009e90dc-7bef-4028-bb03-af218d33d498",
   "metadata": {},
   "outputs": [
    {
     "data": {
      "image/svg+xml": [
       "<?xml version=\"1.0\" encoding=\"UTF-8\" standalone=\"no\"?>\n",
       "<!DOCTYPE svg PUBLIC \"-//W3C//DTD SVG 1.1//EN\"\n",
       " \"http://www.w3.org/Graphics/SVG/1.1/DTD/svg11.dtd\">\n",
       "<!-- Generated by graphviz version 13.1.2 (20250808.2320)\n",
       " -->\n",
       "<!-- Pages: 1 -->\n",
       "<svg width=\"725pt\" height=\"128pt\"\n",
       " viewBox=\"0.00 0.00 725.00 128.00\" xmlns=\"http://www.w3.org/2000/svg\" xmlns:xlink=\"http://www.w3.org/1999/xlink\">\n",
       "<g id=\"graph0\" class=\"graph\" transform=\"scale(1 1) rotate(0) translate(4 124)\">\n",
       "<polygon fill=\"white\" stroke=\"none\" points=\"-4,4 -4,-124 721.25,-124 721.25,4 -4,4\"/>\n",
       "<!-- 2753025853456 -->\n",
       "<g id=\"node1\" class=\"node\">\n",
       "<title>2753025853456</title>\n",
       "<polygon fill=\"none\" stroke=\"black\" points=\"209.12,-83.5 209.12,-119.5 288.88,-119.5 288.88,-83.5 209.12,-83.5\"/>\n",
       "<text xml:space=\"preserve\" text-anchor=\"middle\" x=\"249\" y=\"-96.7\" font-family=\"Times New Roman,serif\" font-size=\"14.00\">data 4.0000</text>\n",
       "</g>\n",
       "<!-- 2751328206416+ -->\n",
       "<g id=\"node3\" class=\"node\">\n",
       "<title>2751328206416+</title>\n",
       "<ellipse fill=\"none\" stroke=\"black\" cx=\"355.25\" cy=\"-73.5\" rx=\"27\" ry=\"18\"/>\n",
       "<text xml:space=\"preserve\" text-anchor=\"middle\" x=\"355.25\" y=\"-68.45\" font-family=\"Times New Roman,serif\" font-size=\"14.00\">+</text>\n",
       "</g>\n",
       "<!-- 2753025853456&#45;&gt;2751328206416+ -->\n",
       "<g id=\"edge7\" class=\"edge\">\n",
       "<title>2753025853456&#45;&gt;2751328206416+</title>\n",
       "<path fill=\"none\" stroke=\"black\" d=\"M289.12,-90.99C298.81,-88.39 309.14,-85.61 318.66,-83.06\"/>\n",
       "<polygon fill=\"black\" stroke=\"black\" points=\"319.55,-86.44 328.3,-80.47 317.73,-79.68 319.55,-86.44\"/>\n",
       "</g>\n",
       "<!-- 2751328206416 -->\n",
       "<g id=\"node2\" class=\"node\">\n",
       "<title>2751328206416</title>\n",
       "<polygon fill=\"none\" stroke=\"black\" points=\"418.25,-55.5 418.25,-91.5 504.75,-91.5 504.75,-55.5 418.25,-55.5\"/>\n",
       "<text xml:space=\"preserve\" text-anchor=\"middle\" x=\"461.5\" y=\"-68.7\" font-family=\"Times New Roman,serif\" font-size=\"14.00\">data 16.0000</text>\n",
       "</g>\n",
       "<!-- 2751268798736* -->\n",
       "<g id=\"node7\" class=\"node\">\n",
       "<title>2751268798736*</title>\n",
       "<ellipse fill=\"none\" stroke=\"black\" cx=\"567.75\" cy=\"-45.5\" rx=\"27\" ry=\"18\"/>\n",
       "<text xml:space=\"preserve\" text-anchor=\"middle\" x=\"567.75\" y=\"-40.45\" font-family=\"Times New Roman,serif\" font-size=\"14.00\">*</text>\n",
       "</g>\n",
       "<!-- 2751328206416&#45;&gt;2751268798736* -->\n",
       "<g id=\"edge4\" class=\"edge\">\n",
       "<title>2751328206416&#45;&gt;2751268798736*</title>\n",
       "<path fill=\"none\" stroke=\"black\" d=\"M505.2,-62.03C513.86,-59.7 522.88,-57.28 531.26,-55.03\"/>\n",
       "<polygon fill=\"black\" stroke=\"black\" points=\"531.98,-58.46 540.73,-52.49 530.17,-51.7 531.98,-58.46\"/>\n",
       "</g>\n",
       "<!-- 2751328206416+&#45;&gt;2751328206416 -->\n",
       "<g id=\"edge1\" class=\"edge\">\n",
       "<title>2751328206416+&#45;&gt;2751328206416</title>\n",
       "<path fill=\"none\" stroke=\"black\" d=\"M382.56,-73.5C389.94,-73.5 398.24,-73.5 406.61,-73.5\"/>\n",
       "<polygon fill=\"black\" stroke=\"black\" points=\"406.46,-77 416.46,-73.5 406.46,-70 406.46,-77\"/>\n",
       "</g>\n",
       "<!-- 2751327886992 -->\n",
       "<g id=\"node4\" class=\"node\">\n",
       "<title>2751327886992</title>\n",
       "<polygon fill=\"none\" stroke=\"black\" points=\"0,-56.5 0,-92.5 79.75,-92.5 79.75,-56.5 0,-56.5\"/>\n",
       "<text xml:space=\"preserve\" text-anchor=\"middle\" x=\"39.88\" y=\"-69.7\" font-family=\"Times New Roman,serif\" font-size=\"14.00\">data 3.0000</text>\n",
       "</g>\n",
       "<!-- 2751328202000* -->\n",
       "<g id=\"node9\" class=\"node\">\n",
       "<title>2751328202000*</title>\n",
       "<ellipse fill=\"none\" stroke=\"black\" cx=\"142.75\" cy=\"-46.5\" rx=\"27\" ry=\"18\"/>\n",
       "<text xml:space=\"preserve\" text-anchor=\"middle\" x=\"142.75\" y=\"-41.45\" font-family=\"Times New Roman,serif\" font-size=\"14.00\">*</text>\n",
       "</g>\n",
       "<!-- 2751327886992&#45;&gt;2751328202000* -->\n",
       "<g id=\"edge8\" class=\"edge\">\n",
       "<title>2751327886992&#45;&gt;2751328202000*</title>\n",
       "<path fill=\"none\" stroke=\"black\" d=\"M80.16,-63.59C88.76,-61.21 97.81,-58.7 106.25,-56.35\"/>\n",
       "<polygon fill=\"black\" stroke=\"black\" points=\"107.11,-59.75 115.81,-53.7 105.24,-53 107.11,-59.75\"/>\n",
       "</g>\n",
       "<!-- 2751328200912 -->\n",
       "<g id=\"node5\" class=\"node\">\n",
       "<title>2751328200912</title>\n",
       "<polygon fill=\"none\" stroke=\"black\" points=\"421.62,-0.5 421.62,-36.5 501.38,-36.5 501.38,-0.5 421.62,-0.5\"/>\n",
       "<text xml:space=\"preserve\" text-anchor=\"middle\" x=\"461.5\" y=\"-13.7\" font-family=\"Times New Roman,serif\" font-size=\"14.00\">data 6.0000</text>\n",
       "</g>\n",
       "<!-- 2751328200912&#45;&gt;2751268798736* -->\n",
       "<g id=\"edge9\" class=\"edge\">\n",
       "<title>2751328200912&#45;&gt;2751268798736*</title>\n",
       "<path fill=\"none\" stroke=\"black\" d=\"M501.62,-28.63C511.31,-31.14 521.64,-33.82 531.16,-36.28\"/>\n",
       "<polygon fill=\"black\" stroke=\"black\" points=\"530.24,-39.66 540.8,-38.78 531.99,-32.88 530.24,-39.66\"/>\n",
       "</g>\n",
       "<!-- 2751268798736 -->\n",
       "<g id=\"node6\" class=\"node\">\n",
       "<title>2751268798736</title>\n",
       "<polygon fill=\"none\" stroke=\"black\" points=\"630.75,-27.5 630.75,-63.5 717.25,-63.5 717.25,-27.5 630.75,-27.5\"/>\n",
       "<text xml:space=\"preserve\" text-anchor=\"middle\" x=\"674\" y=\"-40.7\" font-family=\"Times New Roman,serif\" font-size=\"14.00\">data 96.0000</text>\n",
       "</g>\n",
       "<!-- 2751268798736*&#45;&gt;2751268798736 -->\n",
       "<g id=\"edge2\" class=\"edge\">\n",
       "<title>2751268798736*&#45;&gt;2751268798736</title>\n",
       "<path fill=\"none\" stroke=\"black\" d=\"M595.06,-45.5C602.44,-45.5 610.74,-45.5 619.11,-45.5\"/>\n",
       "<polygon fill=\"black\" stroke=\"black\" points=\"618.96,-49 628.96,-45.5 618.96,-42 618.96,-49\"/>\n",
       "</g>\n",
       "<!-- 2751328202000 -->\n",
       "<g id=\"node8\" class=\"node\">\n",
       "<title>2751328202000</title>\n",
       "<polygon fill=\"none\" stroke=\"black\" points=\"205.75,-28.5 205.75,-64.5 292.25,-64.5 292.25,-28.5 205.75,-28.5\"/>\n",
       "<text xml:space=\"preserve\" text-anchor=\"middle\" x=\"249\" y=\"-41.7\" font-family=\"Times New Roman,serif\" font-size=\"14.00\">data 12.0000</text>\n",
       "</g>\n",
       "<!-- 2751328202000&#45;&gt;2751328206416+ -->\n",
       "<g id=\"edge5\" class=\"edge\">\n",
       "<title>2751328202000&#45;&gt;2751328206416+</title>\n",
       "<path fill=\"none\" stroke=\"black\" d=\"M292.7,-57.56C301.36,-59.8 310.38,-62.14 318.76,-64.31\"/>\n",
       "<polygon fill=\"black\" stroke=\"black\" points=\"317.67,-67.64 328.23,-66.76 319.42,-60.86 317.67,-67.64\"/>\n",
       "</g>\n",
       "<!-- 2751328202000*&#45;&gt;2751328202000 -->\n",
       "<g id=\"edge3\" class=\"edge\">\n",
       "<title>2751328202000*&#45;&gt;2751328202000</title>\n",
       "<path fill=\"none\" stroke=\"black\" d=\"M170.06,-46.5C177.44,-46.5 185.74,-46.5 194.11,-46.5\"/>\n",
       "<polygon fill=\"black\" stroke=\"black\" points=\"193.96,-50 203.96,-46.5 193.96,-43 193.96,-50\"/>\n",
       "</g>\n",
       "<!-- 2751327894416 -->\n",
       "<g id=\"node10\" class=\"node\">\n",
       "<title>2751327894416</title>\n",
       "<polygon fill=\"none\" stroke=\"black\" points=\"0,-1.5 0,-37.5 79.75,-37.5 79.75,-1.5 0,-1.5\"/>\n",
       "<text xml:space=\"preserve\" text-anchor=\"middle\" x=\"39.88\" y=\"-14.7\" font-family=\"Times New Roman,serif\" font-size=\"14.00\">data 4.0000</text>\n",
       "</g>\n",
       "<!-- 2751327894416&#45;&gt;2751328202000* -->\n",
       "<g id=\"edge6\" class=\"edge\">\n",
       "<title>2751327894416&#45;&gt;2751328202000*</title>\n",
       "<path fill=\"none\" stroke=\"black\" d=\"M80.16,-30.02C88.76,-32.32 97.81,-34.74 106.25,-37\"/>\n",
       "<polygon fill=\"black\" stroke=\"black\" points=\"105.25,-40.35 115.81,-39.56 107.06,-33.59 105.25,-40.35\"/>\n",
       "</g>\n",
       "</g>\n",
       "</svg>\n"
      ],
      "text/plain": [
       "<graphviz.graphs.Digraph at 0x28097c99590>"
      ]
     },
     "execution_count": 43,
     "metadata": {},
     "output_type": "execute_result"
    }
   ],
   "source": [
    "draw_dot(e)"
   ]
  },
  {
   "cell_type": "code",
   "execution_count": 44,
   "id": "7b3f690d-e711-4503-9b47-ae7af213eb9e",
   "metadata": {},
   "outputs": [
    {
     "name": "stdout",
     "output_type": "stream",
     "text": [
      "Value(data=97.19709491200001)\n"
     ]
    }
   ],
   "source": [
    "a.data += a.grad * 0.001\n",
    "b.data += b.grad * 0.001\n",
    "c.data += c.grad * 0.001\n",
    "f.data += f.grad * 0.001\n",
    "\n",
    "p = a * b\n",
    "d = p + c\n",
    "e = f * d\n",
    "print(e)"
   ]
  },
  {
   "cell_type": "code",
   "execution_count": 45,
   "id": "e6deda89-4c75-45ae-9818-52e5cdea3dc9",
   "metadata": {},
   "outputs": [],
   "source": [
    "def part_diff_finder():\n",
    "    h = 0.001\n",
    "    a = Value(3, label = 'a')\n",
    "    b = Value(4.0, label = 'b')\n",
    "    c = Value(4, label = 'c')\n",
    "    f = Value(6, label = 'f')\n",
    "    p = a*b\n",
    "    d = p + c\n",
    "    e = f * d\n",
    "    L1 = e\n",
    "\n",
    "    a = Value(3 + h, label = 'a')\n",
    "    b = Value(4.0, label = 'b')\n",
    "    c = Value(4, label = 'c')\n",
    "    f = Value(6, label = 'f')\n",
    "    p = a*b\n",
    "    d = p + c\n",
    "    e = f * d\n",
    "    L2 = e\n",
    "    #by incrementing variables by h we can get gradient of l1 corresponding to different variable\n",
    "\n",
    "    diff = (l2 - l1) / h\n",
    "\n"
   ]
  },
  {
   "cell_type": "code",
   "execution_count": 46,
   "id": "108172d5-baea-40b7-8486-8e621bea5d09",
   "metadata": {},
   "outputs": [
    {
     "data": {
      "text/plain": [
       "[<matplotlib.lines.Line2D at 0x2809465d610>]"
      ]
     },
     "execution_count": 46,
     "metadata": {},
     "output_type": "execute_result"
    },
    {
     "data": {
      "image/png": "[encoded data removed]",
      "text/plain": [
       "<Figure size 640x480 with 1 Axes>"
      ]
     },
     "metadata": {},
     "output_type": "display_data"
    }
   ],
   "source": [
    "plt.plot(np.arange(-5, 5, 0.2), np.tanh(np.arange(-5, 5, 0.2)))"
   ]
  },
  {
   "cell_type": "code",
   "execution_count": 47,
   "id": "b54e1b80-b031-4980-b66e-86e3d44e2f6e",
   "metadata": {},
   "outputs": [],
   "source": [
    "\n",
    "w1 = Value(2, label = 'w1')\n",
    "w2 = Value(0, label = 'w2')\n",
    "x1 = Value(-3, label = 'x1')\n",
    "x2 = Value(1, label = 'x2')\n",
    "\n",
    "w1x1 = w1*x1; w1x1; w1x1.label = 'w1x1'\n",
    "w2x2 = w2*x2; w2x2; w2x2.label = 'w2x2'\n",
    "\n",
    "b = Value(5, label = 'b')\n",
    "w1x1w2x2 = w1x1 + w2x2\n",
    "n = w1x1w2x2 + b\n",
    "n.label = 'n'\n",
    "w1x1w2x2.label = 'w1x1w2x2'\n",
    "temp = 2*n.exp()\n",
    "o = (temp - 1)/(temp + 1)\n",
    "o.label = 'o'"
   ]
  },
  {
   "cell_type": "code",
   "execution_count": 49,
   "id": "dc744dd8-c383-4dc7-89bc-77425550d5ca",
   "metadata": {},
   "outputs": [
    {
     "data": {
      "image/svg+xml": [
       "<?xml version=\"1.0\" encoding=\"UTF-8\" standalone=\"no\"?>\n",
       "<!DOCTYPE svg PUBLIC \"-//W3C//DTD SVG 1.1//EN\"\n",
       " \"http://www.w3.org/Graphics/SVG/1.1/DTD/svg11.dtd\">\n",
       "<!-- Generated by graphviz version 13.1.2 (20250808.2320)\n",
       " -->\n",
       "<!-- Pages: 1 -->\n",
       "<svg width=\"1791pt\" height=\"210pt\"\n",
       " viewBox=\"0.00 0.00 1791.00 210.00\" xmlns=\"http://www.w3.org/2000/svg\" xmlns:xlink=\"http://www.w3.org/1999/xlink\">\n",
       "<g id=\"graph0\" class=\"graph\" transform=\"scale(1 1) rotate(0) translate(4 206)\">\n",
       "<polygon fill=\"white\" stroke=\"none\" points=\"-4,4 -4,-206 1787,-206 1787,4 -4,4\"/>\n",
       "<!-- 2751269100560 -->\n",
       "<g id=\"node1\" class=\"node\">\n",
       "<title>2751269100560</title>\n",
       "<polygon fill=\"none\" stroke=\"black\" points=\"1257,-108.5 1257,-144.5 1336.75,-144.5 1336.75,-108.5 1257,-108.5\"/>\n",
       "<text xml:space=\"preserve\" text-anchor=\"middle\" x=\"1296.88\" y=\"-121.7\" font-family=\"Times New Roman,serif\" font-size=\"14.00\">data 1.7358</text>\n",
       "</g>\n",
       "<!-- 2751326117456pow&#45;1 -->\n",
       "<g id=\"node6\" class=\"node\">\n",
       "<title>2751326117456pow&#45;1</title>\n",
       "<ellipse fill=\"none\" stroke=\"black\" cx=\"1414.88\" cy=\"-126.5\" rx=\"34.46\" ry=\"18\"/>\n",
       "<text xml:space=\"preserve\" text-anchor=\"middle\" x=\"1414.88\" y=\"-121.45\" font-family=\"Times New Roman,serif\" font-size=\"14.00\">pow&#45;1</text>\n",
       "</g>\n",
       "<!-- 2751269100560&#45;&gt;2751326117456pow&#45;1 -->\n",
       "<g id=\"edge13\" class=\"edge\">\n",
       "<title>2751269100560&#45;&gt;2751326117456pow&#45;1</title>\n",
       "<path fill=\"none\" stroke=\"black\" d=\"M1337.15,-126.5C1347.27,-126.5 1358.25,-126.5 1368.65,-126.5\"/>\n",
       "<polygon fill=\"black\" stroke=\"black\" points=\"1368.56,-130 1378.56,-126.5 1368.56,-123 1368.56,-130\"/>\n",
       "</g>\n",
       "<!-- 2751269100560+ -->\n",
       "<g id=\"node2\" class=\"node\">\n",
       "<title>2751269100560+</title>\n",
       "<ellipse fill=\"none\" stroke=\"black\" cx=\"1194\" cy=\"-126.5\" rx=\"27\" ry=\"18\"/>\n",
       "<text xml:space=\"preserve\" text-anchor=\"middle\" x=\"1194\" y=\"-121.45\" font-family=\"Times New Roman,serif\" font-size=\"14.00\">+</text>\n",
       "</g>\n",
       "<!-- 2751269100560+&#45;&gt;2751269100560 -->\n",
       "<g id=\"edge1\" class=\"edge\">\n",
       "<title>2751269100560+&#45;&gt;2751269100560</title>\n",
       "<path fill=\"none\" stroke=\"black\" d=\"M1221.24,-126.5C1228.71,-126.5 1237.1,-126.5 1245.49,-126.5\"/>\n",
       "<polygon fill=\"black\" stroke=\"black\" points=\"1245.33,-130 1255.33,-126.5 1245.33,-123 1245.33,-130\"/>\n",
       "</g>\n",
       "<!-- 2751269105680 -->\n",
       "<g id=\"node3\" class=\"node\">\n",
       "<title>2751269105680</title>\n",
       "<polygon fill=\"none\" stroke=\"black\" points=\"630.75,-109.5 630.75,-145.5 715,-145.5 715,-109.5 630.75,-109.5\"/>\n",
       "<text xml:space=\"preserve\" text-anchor=\"middle\" x=\"672.88\" y=\"-122.7\" font-family=\"Times New Roman,serif\" font-size=\"14.00\">data &#45;1.0000</text>\n",
       "</g>\n",
       "<!-- 2751268771472exp -->\n",
       "<g id=\"node11\" class=\"node\">\n",
       "<title>2751268771472exp</title>\n",
       "<ellipse fill=\"none\" stroke=\"black\" cx=\"778\" cy=\"-127.5\" rx=\"27\" ry=\"18\"/>\n",
       "<text xml:space=\"preserve\" text-anchor=\"middle\" x=\"778\" y=\"-122.45\" font-family=\"Times New Roman,serif\" font-size=\"14.00\">exp</text>\n",
       "</g>\n",
       "<!-- 2751269105680&#45;&gt;2751268771472exp -->\n",
       "<g id=\"edge11\" class=\"edge\">\n",
       "<title>2751269105680&#45;&gt;2751268771472exp</title>\n",
       "<path fill=\"none\" stroke=\"black\" d=\"M715.23,-127.5C723.19,-127.5 731.49,-127.5 739.33,-127.5\"/>\n",
       "<polygon fill=\"black\" stroke=\"black\" points=\"739.25,-131 749.25,-127.5 739.25,-124 739.25,-131\"/>\n",
       "</g>\n",
       "<!-- 2751269105680+ -->\n",
       "<g id=\"node4\" class=\"node\">\n",
       "<title>2751269105680+</title>\n",
       "<ellipse fill=\"none\" stroke=\"black\" cx=\"567.75\" cy=\"-127.5\" rx=\"27\" ry=\"18\"/>\n",
       "<text xml:space=\"preserve\" text-anchor=\"middle\" x=\"567.75\" y=\"-122.45\" font-family=\"Times New Roman,serif\" font-size=\"14.00\">+</text>\n",
       "</g>\n",
       "<!-- 2751269105680+&#45;&gt;2751269105680 -->\n",
       "<g id=\"edge2\" class=\"edge\">\n",
       "<title>2751269105680+&#45;&gt;2751269105680</title>\n",
       "<path fill=\"none\" stroke=\"black\" d=\"M595.04,-127.5C602.42,-127.5 610.73,-127.5 619.07,-127.5\"/>\n",
       "<polygon fill=\"black\" stroke=\"black\" points=\"618.89,-131 628.89,-127.5 618.89,-124 618.89,-131\"/>\n",
       "</g>\n",
       "<!-- 2751326117456 -->\n",
       "<g id=\"node5\" class=\"node\">\n",
       "<title>2751326117456</title>\n",
       "<polygon fill=\"none\" stroke=\"black\" points=\"1493,-106.5 1493,-142.5 1572.75,-142.5 1572.75,-106.5 1493,-106.5\"/>\n",
       "<text xml:space=\"preserve\" text-anchor=\"middle\" x=\"1532.88\" y=\"-119.7\" font-family=\"Times New Roman,serif\" font-size=\"14.00\">data 0.5761</text>\n",
       "</g>\n",
       "<!-- 2751325279184* -->\n",
       "<g id=\"node28\" class=\"node\">\n",
       "<title>2751325279184*</title>\n",
       "<ellipse fill=\"none\" stroke=\"black\" cx=\"1635.75\" cy=\"-98.5\" rx=\"27\" ry=\"18\"/>\n",
       "<text xml:space=\"preserve\" text-anchor=\"middle\" x=\"1635.75\" y=\"-93.45\" font-family=\"Times New Roman,serif\" font-size=\"14.00\">*</text>\n",
       "</g>\n",
       "<!-- 2751326117456&#45;&gt;2751325279184* -->\n",
       "<g id=\"edge21\" class=\"edge\">\n",
       "<title>2751326117456&#45;&gt;2751325279184*</title>\n",
       "<path fill=\"none\" stroke=\"black\" d=\"M1573.16,-114.37C1581.68,-112.18 1590.65,-109.87 1599.02,-107.71\"/>\n",
       "<polygon fill=\"black\" stroke=\"black\" points=\"1599.7,-111.15 1608.51,-105.26 1597.95,-104.37 1599.7,-111.15\"/>\n",
       "</g>\n",
       "<!-- 2751326117456pow&#45;1&#45;&gt;2751326117456 -->\n",
       "<g id=\"edge3\" class=\"edge\">\n",
       "<title>2751326117456pow&#45;1&#45;&gt;2751326117456</title>\n",
       "<path fill=\"none\" stroke=\"black\" d=\"M1449.74,-125.92C1459.66,-125.75 1470.73,-125.55 1481.44,-125.37\"/>\n",
       "<polygon fill=\"black\" stroke=\"black\" points=\"1481.41,-128.87 1491.35,-125.2 1481.29,-121.87 1481.41,-128.87\"/>\n",
       "</g>\n",
       "<!-- 2751328085584 -->\n",
       "<g id=\"node7\" class=\"node\">\n",
       "<title>2751328085584</title>\n",
       "<polygon fill=\"none\" stroke=\"black\" points=\"2.25,-165.5 2.25,-201.5 82,-201.5 82,-165.5 2.25,-165.5\"/>\n",
       "<text xml:space=\"preserve\" text-anchor=\"middle\" x=\"42.12\" y=\"-178.7\" font-family=\"Times New Roman,serif\" font-size=\"14.00\">data 0.0000</text>\n",
       "</g>\n",
       "<!-- 2751326140624* -->\n",
       "<g id=\"node13\" class=\"node\">\n",
       "<title>2751326140624*</title>\n",
       "<ellipse fill=\"none\" stroke=\"black\" cx=\"147.25\" cy=\"-128.5\" rx=\"27\" ry=\"18\"/>\n",
       "<text xml:space=\"preserve\" text-anchor=\"middle\" x=\"147.25\" y=\"-123.45\" font-family=\"Times New Roman,serif\" font-size=\"14.00\">*</text>\n",
       "</g>\n",
       "<!-- 2751328085584&#45;&gt;2751326140624* -->\n",
       "<g id=\"edge17\" class=\"edge\">\n",
       "<title>2751328085584&#45;&gt;2751326140624*</title>\n",
       "<path fill=\"none\" stroke=\"black\" d=\"M77.75,-165.03C89.97,-158.52 103.62,-151.24 115.49,-144.9\"/>\n",
       "<polygon fill=\"black\" stroke=\"black\" points=\"116.88,-148.13 124.06,-140.33 113.59,-141.95 116.88,-148.13\"/>\n",
       "</g>\n",
       "<!-- 2751269101712 -->\n",
       "<g id=\"node8\" class=\"node\">\n",
       "<title>2751269101712</title>\n",
       "<polygon fill=\"none\" stroke=\"black\" points=\"1049,-81.5 1049,-117.5 1128.75,-117.5 1128.75,-81.5 1049,-81.5\"/>\n",
       "<text xml:space=\"preserve\" text-anchor=\"middle\" x=\"1088.88\" y=\"-94.7\" font-family=\"Times New Roman,serif\" font-size=\"14.00\">data 0.7358</text>\n",
       "</g>\n",
       "<!-- 2751269101712&#45;&gt;2751269100560+ -->\n",
       "<g id=\"edge19\" class=\"edge\">\n",
       "<title>2751269101712&#45;&gt;2751269100560+</title>\n",
       "<path fill=\"none\" stroke=\"black\" d=\"M1129.16,-109.78C1138.44,-112.22 1148.29,-114.79 1157.4,-117.18\"/>\n",
       "<polygon fill=\"black\" stroke=\"black\" points=\"1156.43,-120.54 1166.99,-119.69 1158.2,-113.77 1156.43,-120.54\"/>\n",
       "</g>\n",
       "<!-- 2751269103312+ -->\n",
       "<g id=\"node16\" class=\"node\">\n",
       "<title>2751269103312+</title>\n",
       "<ellipse fill=\"none\" stroke=\"black\" cx=\"1194\" cy=\"-71.5\" rx=\"27\" ry=\"18\"/>\n",
       "<text xml:space=\"preserve\" text-anchor=\"middle\" x=\"1194\" y=\"-66.45\" font-family=\"Times New Roman,serif\" font-size=\"14.00\">+</text>\n",
       "</g>\n",
       "<!-- 2751269101712&#45;&gt;2751269103312+ -->\n",
       "<g id=\"edge28\" class=\"edge\">\n",
       "<title>2751269101712&#45;&gt;2751269103312+</title>\n",
       "<path fill=\"none\" stroke=\"black\" d=\"M1129.16,-88.83C1138.44,-86.31 1148.29,-83.64 1157.4,-81.17\"/>\n",
       "<polygon fill=\"black\" stroke=\"black\" points=\"1158.26,-84.56 1166.99,-78.56 1156.42,-77.8 1158.26,-84.56\"/>\n",
       "</g>\n",
       "<!-- 2751269101712* -->\n",
       "<g id=\"node9\" class=\"node\">\n",
       "<title>2751269101712*</title>\n",
       "<ellipse fill=\"none\" stroke=\"black\" cx=\"983.75\" cy=\"-99.5\" rx=\"27\" ry=\"18\"/>\n",
       "<text xml:space=\"preserve\" text-anchor=\"middle\" x=\"983.75\" y=\"-94.45\" font-family=\"Times New Roman,serif\" font-size=\"14.00\">*</text>\n",
       "</g>\n",
       "<!-- 2751269101712*&#45;&gt;2751269101712 -->\n",
       "<g id=\"edge4\" class=\"edge\">\n",
       "<title>2751269101712*&#45;&gt;2751269101712</title>\n",
       "<path fill=\"none\" stroke=\"black\" d=\"M1011.04,-99.5C1019.1,-99.5 1028.25,-99.5 1037.35,-99.5\"/>\n",
       "<polygon fill=\"black\" stroke=\"black\" points=\"1037.26,-103 1047.26,-99.5 1037.26,-96 1037.26,-103\"/>\n",
       "</g>\n",
       "<!-- 2751268771472 -->\n",
       "<g id=\"node10\" class=\"node\">\n",
       "<title>2751268771472</title>\n",
       "<polygon fill=\"none\" stroke=\"black\" points=\"841,-109.5 841,-145.5 920.75,-145.5 920.75,-109.5 841,-109.5\"/>\n",
       "<text xml:space=\"preserve\" text-anchor=\"middle\" x=\"880.88\" y=\"-122.7\" font-family=\"Times New Roman,serif\" font-size=\"14.00\">data 0.3679</text>\n",
       "</g>\n",
       "<!-- 2751268771472&#45;&gt;2751269101712* -->\n",
       "<g id=\"edge20\" class=\"edge\">\n",
       "<title>2751268771472&#45;&gt;2751269101712*</title>\n",
       "<path fill=\"none\" stroke=\"black\" d=\"M921.16,-116.59C929.76,-114.21 938.81,-111.7 947.25,-109.35\"/>\n",
       "<polygon fill=\"black\" stroke=\"black\" points=\"948.11,-112.75 956.81,-106.7 946.24,-106 948.11,-112.75\"/>\n",
       "</g>\n",
       "<!-- 2751268771472exp&#45;&gt;2751268771472 -->\n",
       "<g id=\"edge5\" class=\"edge\">\n",
       "<title>2751268771472exp&#45;&gt;2751268771472</title>\n",
       "<path fill=\"none\" stroke=\"black\" d=\"M805.24,-127.5C812.71,-127.5 821.1,-127.5 829.49,-127.5\"/>\n",
       "<polygon fill=\"black\" stroke=\"black\" points=\"829.33,-131 839.33,-127.5 829.33,-124 829.33,-131\"/>\n",
       "</g>\n",
       "<!-- 2751326140624 -->\n",
       "<g id=\"node12\" class=\"node\">\n",
       "<title>2751326140624</title>\n",
       "<polygon fill=\"none\" stroke=\"black\" points=\"212.5,-110.5 212.5,-146.5 292.25,-146.5 292.25,-110.5 212.5,-110.5\"/>\n",
       "<text xml:space=\"preserve\" text-anchor=\"middle\" x=\"252.38\" y=\"-123.7\" font-family=\"Times New Roman,serif\" font-size=\"14.00\">data 0.0000</text>\n",
       "</g>\n",
       "<!-- 2751325083088+ -->\n",
       "<g id=\"node26\" class=\"node\">\n",
       "<title>2751325083088+</title>\n",
       "<ellipse fill=\"none\" stroke=\"black\" cx=\"357.5\" cy=\"-100.5\" rx=\"27\" ry=\"18\"/>\n",
       "<text xml:space=\"preserve\" text-anchor=\"middle\" x=\"357.5\" y=\"-95.45\" font-family=\"Times New Roman,serif\" font-size=\"14.00\">+</text>\n",
       "</g>\n",
       "<!-- 2751326140624&#45;&gt;2751325083088+ -->\n",
       "<g id=\"edge24\" class=\"edge\">\n",
       "<title>2751326140624&#45;&gt;2751325083088+</title>\n",
       "<path fill=\"none\" stroke=\"black\" d=\"M292.66,-117.83C301.94,-115.31 311.79,-112.64 320.9,-110.17\"/>\n",
       "<polygon fill=\"black\" stroke=\"black\" points=\"321.76,-113.56 330.49,-107.56 319.92,-106.8 321.76,-113.56\"/>\n",
       "</g>\n",
       "<!-- 2751326140624*&#45;&gt;2751326140624 -->\n",
       "<g id=\"edge6\" class=\"edge\">\n",
       "<title>2751326140624*&#45;&gt;2751326140624</title>\n",
       "<path fill=\"none\" stroke=\"black\" d=\"M174.54,-128.5C182.6,-128.5 191.75,-128.5 200.85,-128.5\"/>\n",
       "<polygon fill=\"black\" stroke=\"black\" points=\"200.76,-132 210.76,-128.5 200.76,-125 200.76,-132\"/>\n",
       "</g>\n",
       "<!-- 2751269097168 -->\n",
       "<g id=\"node14\" class=\"node\">\n",
       "<title>2751269097168</title>\n",
       "<polygon fill=\"none\" stroke=\"black\" points=\"841,-54.5 841,-90.5 920.75,-90.5 920.75,-54.5 841,-54.5\"/>\n",
       "<text xml:space=\"preserve\" text-anchor=\"middle\" x=\"880.88\" y=\"-67.7\" font-family=\"Times New Roman,serif\" font-size=\"14.00\">data 2.0000</text>\n",
       "</g>\n",
       "<!-- 2751269097168&#45;&gt;2751269101712* -->\n",
       "<g id=\"edge16\" class=\"edge\">\n",
       "<title>2751269097168&#45;&gt;2751269101712*</title>\n",
       "<path fill=\"none\" stroke=\"black\" d=\"M921.16,-83.02C929.76,-85.32 938.81,-87.74 947.25,-90\"/>\n",
       "<polygon fill=\"black\" stroke=\"black\" points=\"946.25,-93.35 956.81,-92.56 948.06,-86.59 946.25,-93.35\"/>\n",
       "</g>\n",
       "<!-- 2751269103312 -->\n",
       "<g id=\"node15\" class=\"node\">\n",
       "<title>2751269103312</title>\n",
       "<polygon fill=\"none\" stroke=\"black\" points=\"1372.75,-53.5 1372.75,-89.5 1457,-89.5 1457,-53.5 1372.75,-53.5\"/>\n",
       "<text xml:space=\"preserve\" text-anchor=\"middle\" x=\"1414.88\" y=\"-66.7\" font-family=\"Times New Roman,serif\" font-size=\"14.00\">data &#45;0.2642</text>\n",
       "</g>\n",
       "<!-- 2751269103312&#45;&gt;2751325279184* -->\n",
       "<g id=\"edge15\" class=\"edge\">\n",
       "<title>2751269103312&#45;&gt;2751325279184*</title>\n",
       "<path fill=\"none\" stroke=\"black\" d=\"M1457.3,-76.61C1497.73,-81.6 1558.69,-89.12 1597.6,-93.92\"/>\n",
       "<polygon fill=\"black\" stroke=\"black\" points=\"1597.06,-97.38 1607.41,-95.13 1597.92,-90.43 1597.06,-97.38\"/>\n",
       "</g>\n",
       "<!-- 2751269103312+&#45;&gt;2751269103312 -->\n",
       "<g id=\"edge7\" class=\"edge\">\n",
       "<title>2751269103312+&#45;&gt;2751269103312</title>\n",
       "<path fill=\"none\" stroke=\"black\" d=\"M1221.4,-71.5C1255.84,-71.5 1316.91,-71.5 1361.03,-71.5\"/>\n",
       "<polygon fill=\"black\" stroke=\"black\" points=\"1360.91,-75 1370.91,-71.5 1360.91,-68 1360.91,-75\"/>\n",
       "</g>\n",
       "<!-- 2751269098192 -->\n",
       "<g id=\"node17\" class=\"node\">\n",
       "<title>2751269098192</title>\n",
       "<polygon fill=\"none\" stroke=\"black\" points=\"1046.75,-26.5 1046.75,-62.5 1131,-62.5 1131,-26.5 1046.75,-26.5\"/>\n",
       "<text xml:space=\"preserve\" text-anchor=\"middle\" x=\"1088.88\" y=\"-39.7\" font-family=\"Times New Roman,serif\" font-size=\"14.00\">data &#45;1.0000</text>\n",
       "</g>\n",
       "<!-- 2751269098192&#45;&gt;2751269103312+ -->\n",
       "<g id=\"edge23\" class=\"edge\">\n",
       "<title>2751269098192&#45;&gt;2751269103312+</title>\n",
       "<path fill=\"none\" stroke=\"black\" d=\"M1131.23,-55.33C1139.86,-57.59 1148.88,-59.95 1157.29,-62.15\"/>\n",
       "<polygon fill=\"black\" stroke=\"black\" points=\"1156.24,-65.49 1166.8,-64.64 1158.01,-58.72 1156.24,-65.49\"/>\n",
       "</g>\n",
       "<!-- 2751269094672 -->\n",
       "<g id=\"node18\" class=\"node\">\n",
       "<title>2751269094672</title>\n",
       "<polygon fill=\"none\" stroke=\"black\" points=\"1049,-136.5 1049,-172.5 1128.75,-172.5 1128.75,-136.5 1049,-136.5\"/>\n",
       "<text xml:space=\"preserve\" text-anchor=\"middle\" x=\"1088.88\" y=\"-149.7\" font-family=\"Times New Roman,serif\" font-size=\"14.00\">data 1.0000</text>\n",
       "</g>\n",
       "<!-- 2751269094672&#45;&gt;2751269100560+ -->\n",
       "<g id=\"edge18\" class=\"edge\">\n",
       "<title>2751269094672&#45;&gt;2751269100560+</title>\n",
       "<path fill=\"none\" stroke=\"black\" d=\"M1129.16,-143.83C1138.44,-141.31 1148.29,-138.64 1157.4,-136.17\"/>\n",
       "<polygon fill=\"black\" stroke=\"black\" points=\"1158.26,-139.56 1166.99,-133.56 1156.42,-132.8 1158.26,-139.56\"/>\n",
       "</g>\n",
       "<!-- 2751325087504 -->\n",
       "<g id=\"node19\" class=\"node\">\n",
       "<title>2751325087504</title>\n",
       "<polygon fill=\"none\" stroke=\"black\" points=\"422.75,-137.5 422.75,-173.5 502.5,-173.5 502.5,-137.5 422.75,-137.5\"/>\n",
       "<text xml:space=\"preserve\" text-anchor=\"middle\" x=\"462.62\" y=\"-150.7\" font-family=\"Times New Roman,serif\" font-size=\"14.00\">data 5.0000</text>\n",
       "</g>\n",
       "<!-- 2751325087504&#45;&gt;2751269105680+ -->\n",
       "<g id=\"edge12\" class=\"edge\">\n",
       "<title>2751325087504&#45;&gt;2751269105680+</title>\n",
       "<path fill=\"none\" stroke=\"black\" d=\"M502.91,-144.83C512.19,-142.31 522.04,-139.64 531.15,-137.17\"/>\n",
       "<polygon fill=\"black\" stroke=\"black\" points=\"532.01,-140.56 540.74,-134.56 530.17,-133.8 532.01,-140.56\"/>\n",
       "</g>\n",
       "<!-- 2751328076752 -->\n",
       "<g id=\"node20\" class=\"node\">\n",
       "<title>2751328076752</title>\n",
       "<polygon fill=\"none\" stroke=\"black\" points=\"2.25,-55.5 2.25,-91.5 82,-91.5 82,-55.5 2.25,-55.5\"/>\n",
       "<text xml:space=\"preserve\" text-anchor=\"middle\" x=\"42.12\" y=\"-68.7\" font-family=\"Times New Roman,serif\" font-size=\"14.00\">data 2.0000</text>\n",
       "</g>\n",
       "<!-- 2751325093200* -->\n",
       "<g id=\"node22\" class=\"node\">\n",
       "<title>2751325093200*</title>\n",
       "<ellipse fill=\"none\" stroke=\"black\" cx=\"147.25\" cy=\"-73.5\" rx=\"27\" ry=\"18\"/>\n",
       "<text xml:space=\"preserve\" text-anchor=\"middle\" x=\"147.25\" y=\"-68.45\" font-family=\"Times New Roman,serif\" font-size=\"14.00\">*</text>\n",
       "</g>\n",
       "<!-- 2751328076752&#45;&gt;2751325093200* -->\n",
       "<g id=\"edge26\" class=\"edge\">\n",
       "<title>2751328076752&#45;&gt;2751325093200*</title>\n",
       "<path fill=\"none\" stroke=\"black\" d=\"M82.41,-73.5C90.92,-73.5 99.9,-73.5 108.36,-73.5\"/>\n",
       "<polygon fill=\"black\" stroke=\"black\" points=\"108.34,-77 118.34,-73.5 108.34,-70 108.34,-77\"/>\n",
       "</g>\n",
       "<!-- 2751325093200 -->\n",
       "<g id=\"node21\" class=\"node\">\n",
       "<title>2751325093200</title>\n",
       "<polygon fill=\"none\" stroke=\"black\" points=\"210.25,-55.5 210.25,-91.5 294.5,-91.5 294.5,-55.5 210.25,-55.5\"/>\n",
       "<text xml:space=\"preserve\" text-anchor=\"middle\" x=\"252.38\" y=\"-68.7\" font-family=\"Times New Roman,serif\" font-size=\"14.00\">data &#45;6.0000</text>\n",
       "</g>\n",
       "<!-- 2751325093200&#45;&gt;2751325083088+ -->\n",
       "<g id=\"edge14\" class=\"edge\">\n",
       "<title>2751325093200&#45;&gt;2751325083088+</title>\n",
       "<path fill=\"none\" stroke=\"black\" d=\"M294.73,-84.33C303.36,-86.59 312.38,-88.95 320.79,-91.15\"/>\n",
       "<polygon fill=\"black\" stroke=\"black\" points=\"319.74,-94.49 330.3,-93.64 321.51,-87.72 319.74,-94.49\"/>\n",
       "</g>\n",
       "<!-- 2751325093200*&#45;&gt;2751325093200 -->\n",
       "<g id=\"edge8\" class=\"edge\">\n",
       "<title>2751325093200*&#45;&gt;2751325093200</title>\n",
       "<path fill=\"none\" stroke=\"black\" d=\"M174.54,-73.5C181.92,-73.5 190.23,-73.5 198.57,-73.5\"/>\n",
       "<polygon fill=\"black\" stroke=\"black\" points=\"198.39,-77 208.39,-73.5 198.39,-70 198.39,-77\"/>\n",
       "</g>\n",
       "<!-- 2751327587664 -->\n",
       "<g id=\"node23\" class=\"node\">\n",
       "<title>2751327587664</title>\n",
       "<polygon fill=\"none\" stroke=\"black\" points=\"0,-0.5 0,-36.5 84.25,-36.5 84.25,-0.5 0,-0.5\"/>\n",
       "<text xml:space=\"preserve\" text-anchor=\"middle\" x=\"42.12\" y=\"-13.7\" font-family=\"Times New Roman,serif\" font-size=\"14.00\">data &#45;3.0000</text>\n",
       "</g>\n",
       "<!-- 2751327587664&#45;&gt;2751325093200* -->\n",
       "<g id=\"edge22\" class=\"edge\">\n",
       "<title>2751327587664&#45;&gt;2751325093200*</title>\n",
       "<path fill=\"none\" stroke=\"black\" d=\"M77.75,-36.97C89.97,-43.48 103.62,-50.76 115.49,-57.1\"/>\n",
       "<polygon fill=\"black\" stroke=\"black\" points=\"113.59,-60.05 124.06,-61.67 116.88,-53.87 113.59,-60.05\"/>\n",
       "</g>\n",
       "<!-- 2751327548304 -->\n",
       "<g id=\"node24\" class=\"node\">\n",
       "<title>2751327548304</title>\n",
       "<polygon fill=\"none\" stroke=\"black\" points=\"2.25,-110.5 2.25,-146.5 82,-146.5 82,-110.5 2.25,-110.5\"/>\n",
       "<text xml:space=\"preserve\" text-anchor=\"middle\" x=\"42.12\" y=\"-123.7\" font-family=\"Times New Roman,serif\" font-size=\"14.00\">data 1.0000</text>\n",
       "</g>\n",
       "<!-- 2751327548304&#45;&gt;2751326140624* -->\n",
       "<g id=\"edge25\" class=\"edge\">\n",
       "<title>2751327548304&#45;&gt;2751326140624*</title>\n",
       "<path fill=\"none\" stroke=\"black\" d=\"M82.41,-128.5C90.92,-128.5 99.9,-128.5 108.36,-128.5\"/>\n",
       "<polygon fill=\"black\" stroke=\"black\" points=\"108.34,-132 118.34,-128.5 108.34,-125 108.34,-132\"/>\n",
       "</g>\n",
       "<!-- 2751325083088 -->\n",
       "<g id=\"node25\" class=\"node\">\n",
       "<title>2751325083088</title>\n",
       "<polygon fill=\"none\" stroke=\"black\" points=\"420.5,-82.5 420.5,-118.5 504.75,-118.5 504.75,-82.5 420.5,-82.5\"/>\n",
       "<text xml:space=\"preserve\" text-anchor=\"middle\" x=\"462.62\" y=\"-95.7\" font-family=\"Times New Roman,serif\" font-size=\"14.00\">data &#45;6.0000</text>\n",
       "</g>\n",
       "<!-- 2751325083088&#45;&gt;2751269105680+ -->\n",
       "<g id=\"edge27\" class=\"edge\">\n",
       "<title>2751325083088&#45;&gt;2751269105680+</title>\n",
       "<path fill=\"none\" stroke=\"black\" d=\"M504.98,-111.33C513.61,-113.59 522.63,-115.95 531.04,-118.15\"/>\n",
       "<polygon fill=\"black\" stroke=\"black\" points=\"529.99,-121.49 540.55,-120.64 531.76,-114.72 529.99,-121.49\"/>\n",
       "</g>\n",
       "<!-- 2751325083088+&#45;&gt;2751325083088 -->\n",
       "<g id=\"edge9\" class=\"edge\">\n",
       "<title>2751325083088+&#45;&gt;2751325083088</title>\n",
       "<path fill=\"none\" stroke=\"black\" d=\"M384.79,-100.5C392.17,-100.5 400.48,-100.5 408.82,-100.5\"/>\n",
       "<polygon fill=\"black\" stroke=\"black\" points=\"408.64,-104 418.64,-100.5 408.64,-97 408.64,-104\"/>\n",
       "</g>\n",
       "<!-- 2751325279184 -->\n",
       "<g id=\"node27\" class=\"node\">\n",
       "<title>2751325279184</title>\n",
       "<polygon fill=\"none\" stroke=\"black\" points=\"1698.75,-80.5 1698.75,-116.5 1783,-116.5 1783,-80.5 1698.75,-80.5\"/>\n",
       "<text xml:space=\"preserve\" text-anchor=\"middle\" x=\"1740.88\" y=\"-93.7\" font-family=\"Times New Roman,serif\" font-size=\"14.00\">data &#45;0.1522</text>\n",
       "</g>\n",
       "<!-- 2751325279184*&#45;&gt;2751325279184 -->\n",
       "<g id=\"edge10\" class=\"edge\">\n",
       "<title>2751325279184*&#45;&gt;2751325279184</title>\n",
       "<path fill=\"none\" stroke=\"black\" d=\"M1663.04,-98.5C1670.42,-98.5 1678.73,-98.5 1687.07,-98.5\"/>\n",
       "<polygon fill=\"black\" stroke=\"black\" points=\"1686.89,-102 1696.89,-98.5 1686.89,-95 1686.89,-102\"/>\n",
       "</g>\n",
       "</g>\n",
       "</svg>\n"
      ],
      "text/plain": [
       "<graphviz.graphs.Digraph at 0x28097d12190>"
      ]
     },
     "execution_count": 49,
     "metadata": {},
     "output_type": "execute_result"
    }
   ],
   "source": [
    "draw_dot(o)"
   ]
  },
  {
   "cell_type": "code",
   "execution_count": 50,
   "id": "d26f8d18-e733-4565-8299-b492ec40f26f",
   "metadata": {},
   "outputs": [],
   "source": [
    "o.grad = 1\n",
    "o._backward()\n",
    "n._backward()\n",
    "w1x1w2x2._backward()\n",
    "w2x2._backward()\n",
    "w1x1._backward()"
   ]
  },
  {
   "cell_type": "code",
   "execution_count": 51,
   "id": "32d98540-2247-4950-8855-0b2ac18d21d6",
   "metadata": {},
   "outputs": [],
   "source": [
    "o.backward()"
   ]
  },
  {
   "cell_type": "code",
   "execution_count": 52,
   "id": "c914e0ff-c938-466e-9d74-ff3beea86258",
   "metadata": {},
   "outputs": [],
   "source": [
    "w1.grad = -1.26\n",
    "x1.grad = 0.84\n",
    "w2.grad = 0.42\n",
    "x2.grad = 0"
   ]
  },
  {
   "cell_type": "code",
   "execution_count": 53,
   "id": "6efcaed1-15b6-4bf9-ac2e-a331423d02f7",
   "metadata": {},
   "outputs": [],
   "source": [
    "w1x1.grad = 0.42\n",
    "w2x2.grad = 0.42"
   ]
  },
  {
   "cell_type": "code",
   "execution_count": 54,
   "id": "a3e1cb59-24b2-474e-86d3-b12573dc149a",
   "metadata": {},
   "outputs": [],
   "source": [
    "b.grad = 0.42\n",
    "w1x1w2x2.grad = 0.42"
   ]
  },
  {
   "cell_type": "code",
   "execution_count": 55,
   "id": "4f12b99d-8e49-45b5-90d7-41c962b6f2ed",
   "metadata": {},
   "outputs": [],
   "source": [
    "n.grad = 0.42"
   ]
  },
  {
   "cell_type": "code",
   "execution_count": 56,
   "id": "55613741-d998-4ce6-b3aa-be3ea5fd2d0a",
   "metadata": {},
   "outputs": [],
   "source": [
    "o.grad = 1"
   ]
  },
  {
   "cell_type": "code",
   "execution_count": 57,
   "id": "02bb0dcf-3741-4eb3-b637-05447684819a",
   "metadata": {},
   "outputs": [],
   "source": [
    "import torch"
   ]
  },
  {
   "cell_type": "code",
   "execution_count": 58,
   "id": "21fce28e-48ac-40b7-9672-fcc1095096ca",
   "metadata": {},
   "outputs": [
    {
     "name": "stdout",
     "output_type": "stream",
     "text": [
      "0.7071066904050358\n",
      "___\n",
      "x2 0.5000001283844369\n",
      "w2 0.0\n",
      "x1 -1.5000003851533106\n",
      "w1 1.0000002567688737\n"
     ]
    }
   ],
   "source": [
    "x1 = torch.tensor([2.0]).double()        ;x1.requires_grad = True\n",
    "x2 = torch.tensor([0.0]).double()        ;x2.requires_grad = True\n",
    "w1 = torch.tensor([-3.0]).double()       ;w1.requires_grad = True\n",
    "w2 = torch.tensor([1.0]).double()        ;w2.requires_grad = True\n",
    "b = torch.tensor([6.8813735870]).double();b.requires_grad = True\n",
    "\n",
    "n = x1*w1 + x2*w2 + b\n",
    "o = torch.tanh(n)\n",
    "\n",
    "print(o.data.item())\n",
    "o.backward()\n",
    "\n",
    "print('___')\n",
    "print('x2',x2.grad.item())\n",
    "print('w2',w2.grad.item())\n",
    "print('x1',x1.grad.item())\n",
    "print('w1',w1.grad.item())"
   ]
  },
  {
   "cell_type": "code",
   "execution_count": 59,
   "id": "cf6b14b2-491b-4d7b-8fd2-9b7335d75e42",
   "metadata": {},
   "outputs": [
    {
     "data": {
      "text/plain": [
       "0.7071066904050358"
      ]
     },
     "execution_count": 59,
     "metadata": {},
     "output_type": "execute_result"
    }
   ],
   "source": [
    "o.data.item()"
   ]
  },
  {
   "cell_type": "code",
   "execution_count": 60,
   "id": "876cf918-495d-43ee-910e-d1c8c9d6b0c5",
   "metadata": {},
   "outputs": [
    {
     "data": {
      "text/plain": [
       "[Value(data=0.08665502147681675)]"
      ]
     },
     "execution_count": 60,
     "metadata": {},
     "output_type": "execute_result"
    }
   ],
   "source": [
    "import random\n",
    "class Neuron:\n",
    "    def __init__(self, nin):\n",
    "        self.w = [Value(random.uniform(-1,1)) for _ in range(nin)]\n",
    "        self.b = Value(random.uniform(-1,1))\n",
    "    def __call__(self, x):\n",
    "        h = sum((wi*xi for wi,xi in zip(self.w,x)), self.b)\n",
    "        out = h.tanh()\n",
    "        return out\n",
    "class Layer:\n",
    "    def __init__(self, nin, nout):\n",
    "        self.neurons = [Neuron(nin) for _ in range(nout)]\n",
    "    def __call__(self, x):\n",
    "        outs = [n(x) for n in self.neurons]\n",
    "        return outs\n",
    "class MLP:\n",
    "    def __init__(self, nin, nout):\n",
    "        sz = [nin] + nout\n",
    "        self.layers = [Layer(sz[i], sz[i + 1]) for i in range(len(nout))]\n",
    "    def __call__(self, x):\n",
    "        for layer in self.layers:\n",
    "            x = layer(x)\n",
    "        return x\n",
    "#n = Neuron(2)\n",
    "#l = Layer(2, 3)\n",
    "x = [2, 3, -1]\n",
    "n = MLP(3,[4,4,1])\n",
    "n(x)\n",
    "#n(x)"
   ]
  },
  {
   "cell_type": "code",
   "execution_count": 62,
   "id": "848e65a1-c750-4950-8c95-4cce7e1bc345",
   "metadata": {},
   "outputs": [],
   "source": [
    "#draw_dot(n(x))"
   ]
  },
  {
   "cell_type": "code",
   "execution_count": 65,
   "id": "de6032f8-0623-47cf-87ab-486ab7f4a04f",
   "metadata": {},
   "outputs": [],
   "source": [
    "#xs = [\n",
    "    #[2, 3, -1],\n",
    "    #[3, -1, 0.5],\n",
    "    #[0.5, 1, 1],\n",
    "    #[1, 1, -1],\n",
    "#]\n",
    "#ys = [1, -1, -1, 1]"
   ]
  },
  {
   "cell_type": "code",
   "execution_count": null,
   "id": "eef14d82-af05-427c-8534-74633c581047",
   "metadata": {},
   "outputs": [],
   "source": []
  }
 ],
 "metadata": {
  "kernelspec": {
   "display_name": "Python 3 (ipykernel)",
   "language": "python",
   "name": "python3"
  },
  "language_info": {
   "codemirror_mode": {
    "name": "ipython",
    "version": 3
   },
   "file_extension": ".py",
   "mimetype": "text/x-python",
   "name": "python",
   "nbconvert_exporter": "python",
   "pygments_lexer": "ipython3",
   "version": "3.11.4"
  }
 },
 "nbformat": 4,
 "nbformat_minor": 5
}
